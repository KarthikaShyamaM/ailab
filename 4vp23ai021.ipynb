{
 "cells": [
  {
   "cell_type": "markdown",
   "id": "90a3ccdf",
   "metadata": {},
   "source": [
    "# EXP-11"
   ]
  },
  {
   "cell_type": "code",
   "execution_count": null,
   "id": "08da3f89",
   "metadata": {},
   "outputs": [],
   "source": [
    "import numpy as np\n",
    "\n",
    "Row_COUNT = 6 ; COLUMN_COUNT = 7\n",
    "\n",
    "def create_board():\n",
    "    return np.zeros((ROW_COUNT, COLUMN_COUNT), dtype=int)\n",
    "\n",
    "def drop_piece(board,row,col,piece):\n",
    "    board[row][col] = piece\n",
    "\n",
    "def is_valid_location(board,col):\n",
    "    return board[ROW_COUNT-1][col] == 0\n",
    "\n",
    "def get_next_open_row(board,col):\n",
    "    board[row][col] = piece\n",
    "    \n",
    "def is_valid_location(board,col):\n",
    "    return board[ROW_COUNT-1][col] == 0\n",
    "\n",
    "def get_next_open_row(board,col):\n",
    "    for r in range(ROW_COUNT):\n",
    "        if board[r][col] == 0:\n",
    "            return r\n",
    "def winning_move(board,piece):\n",
    "    \n",
    "    for c in range(COLUMN_COUNT - 3):\n",
    "        for r in range(ROW_COUNT):\n",
    "            if board[r][c] == piece and \\\n",
    "               board[r][c+1] == piece and \\\n",
    "               board[r][c+2] == piece and \\\n",
    "               board[r][c+3] == piece:\n",
    "                return True\n",
    "    for c in range(COLUMN_COUNT):\n",
    "        for r in range(ROW_COUNT - 3):\n",
    "            if board[r][c] == piece and \\\n",
    "               board[r+1][c] == piece and \\\n",
    "               board[r+2][c] == piece and \\\n",
    "               board[r+3][c] == piece:\n",
    "                return True\n",
    "               \n",
    "\n",
    "    "
   ]
  }
 ],
 "metadata": {
  "kernelspec": {
   "display_name": "Python 3 (ipykernel)",
   "language": "python",
   "name": "python3"
  },
  "language_info": {
   "codemirror_mode": {
    "name": "ipython",
    "version": 3
   },
   "file_extension": ".py",
   "mimetype": "text/x-python",
   "name": "python",
   "nbconvert_exporter": "python",
   "pygments_lexer": "ipython3",
   "version": "3.10.9"
  }
 },
 "nbformat": 4,
 "nbformat_minor": 5
}
